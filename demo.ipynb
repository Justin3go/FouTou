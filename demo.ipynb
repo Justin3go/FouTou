{
 "cells": [
  {
   "cell_type": "code",
   "execution_count": 10,
   "metadata": {},
   "outputs": [
    {
     "name": "stdout",
     "output_type": "stream",
     "text": [
      "[\n",
      "  'name:justin3go',\n",
      "  'description:i am good',\n",
      "  'avator:https://ipfs.io/ipfs/QmWx2XXpJpWKaxSDM1aptTLvXjAzQ82afvoUFT4LWB2cCv?filename=ava.jpg',\n",
      "  'twitter:test123',\n",
      "  'facebook:test234'\n",
      "]\n",
      "{\n",
      "  name: 'justin3go',\n",
      "  description: 'i am good',\n",
      "  avator: 'https://ipfs.io/ipfs/QmWx2XXpJpWKaxSDM1aptTLvXjAzQ82afvoUFT4LWB2cCv?filename=ava.jpg',\n",
      "  twitter: 'test123',\n",
      "  facebook: 'test234'\n",
      "}\n"
     ]
    }
   ],
   "source": [
    "{\n",
    "  const testItems = \"name:justin3go,description:i am good,avator:https://ipfs.io/ipfs/QmWx2XXpJpWKaxSDM1aptTLvXjAzQ82afvoUFT4LWB2cCv?filename=ava.jpg,twitter:test123,facebook:test234\";\n",
    "  const step1 = testItems.split(',');\n",
    "  console.log(step1);\n",
    "  const res = {};\n",
    "  step1.forEach((v)=>{\n",
    "    let i = v.indexOf(':');\n",
    "    let resKey = v.slice(0,i);\n",
    "    let resVal = v.slice(i+1);\n",
    "    res[resKey]= resVal;\n",
    "  })\n",
    "  console.log(res);\n",
    "}\n",
    "// 注意用户不能输入逗号和冒号，所以我们要在前端的输入输出时做一个转义，转义规则暂时定成$$1:逗号，$$2:冒号"
   ]
  },
  {
   "cell_type": "code",
   "execution_count": null,
   "metadata": {},
   "outputs": [],
   "source": []
  }
 ],
 "metadata": {
  "kernelspec": {
   "display_name": "JavaScript (Node.js)",
   "language": "javascript",
   "name": "javascript"
  },
  "language_info": {
   "file_extension": ".js",
   "mimetype": "application/javascript",
   "name": "javascript",
   "version": "16.13.0"
  },
  "orig_nbformat": 4,
  "vscode": {
   "interpreter": {
    "hash": "cec7ac7eabc56199e4dd38ef4c7665c7f0daaa96a63856e8b0e34ca2fc6915ff"
   }
  }
 },
 "nbformat": 4,
 "nbformat_minor": 2
}
